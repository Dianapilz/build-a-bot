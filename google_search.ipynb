{
 "cells": [
  {
   "cell_type": "code",
   "execution_count": 15,
   "metadata": {
    "collapsed": true
   },
   "outputs": [],
   "source": [
    "from selenium import webdriver\n",
    "import os\n",
    "import platform\n",
    "from time import sleep\n",
    "from numpy.random import randint\n",
    "import json\n",
    "import bs4\n",
    "from datetime import datetime"
   ]
  },
  {
   "cell_type": "code",
   "execution_count": 16,
   "metadata": {
    "collapsed": true
   },
   "outputs": [],
   "source": [
    "geckodriver_path = \"/Users/wikstrop/Desktop\""
   ]
  },
  {
   "cell_type": "code",
   "execution_count": 17,
   "metadata": {
    "collapsed": false
   },
   "outputs": [],
   "source": [
    "if not geckodriver_path in os.get_exec_path():\n",
    "    print('adding path')\n",
    "    if platform.system() == \"Windows\":\n",
    "        os.environ[\"PATH\"] = os.environ[\"PATH\"] + \";\" + geckodriver_path\n",
    "    else:\n",
    "        os.environ[\"PATH\"] = os.environ[\"PATH\"] + \":\" + geckodriver_path  "
   ]
  },
  {
   "cell_type": "code",
   "execution_count": 18,
   "metadata": {
    "collapsed": true
   },
   "outputs": [],
   "source": [
    "driver = webdriver.Firefox()"
   ]
  },
  {
   "cell_type": "code",
   "execution_count": null,
   "metadata": {
    "collapsed": true
   },
   "outputs": [],
   "source": []
  },
  {
   "cell_type": "code",
   "execution_count": 19,
   "metadata": {
    "collapsed": true
   },
   "outputs": [],
   "source": [
    "# for the filename\n",
    "stuff = \"google_search\""
   ]
  },
  {
   "cell_type": "code",
   "execution_count": 20,
   "metadata": {
    "collapsed": true
   },
   "outputs": [],
   "source": [
    "results = []"
   ]
  },
  {
   "cell_type": "code",
   "execution_count": 21,
   "metadata": {
    "collapsed": false
   },
   "outputs": [],
   "source": [
    "#f = open('test1.json','r')\n",
    "#results = json.load(f)\n",
    "#f.close()"
   ]
  },
  {
   "cell_type": "code",
   "execution_count": 22,
   "metadata": {
    "collapsed": false
   },
   "outputs": [
    {
     "name": "stdout",
     "output_type": "stream",
     "text": [
      "0\n"
     ]
    }
   ],
   "source": [
    "where_to_start = max(len(results)-20,0)\n",
    "s3 = \"&start=\"+str(where_to_start)\n",
    "print(where_to_start)"
   ]
  },
  {
   "cell_type": "code",
   "execution_count": 23,
   "metadata": {
    "collapsed": true
   },
   "outputs": [],
   "source": [
    "base_url = \"https://www.google.com.au/\"\n",
    "s2 = \"#q=recipe+pavlolva\""
   ]
  },
  {
   "cell_type": "code",
   "execution_count": null,
   "metadata": {
    "collapsed": true
   },
   "outputs": [],
   "source": []
  },
  {
   "cell_type": "code",
   "execution_count": 24,
   "metadata": {
    "collapsed": false
   },
   "outputs": [],
   "source": [
    "driver.get(base_url+s2+s3)"
   ]
  },
  {
   "cell_type": "code",
   "execution_count": 25,
   "metadata": {
    "collapsed": false
   },
   "outputs": [
    {
     "name": "stdout",
     "output_type": "stream",
     "text": [
      "Traditional pavlova - Taste\n",
      "Pavlova - Taste\n",
      "Classic pavlova - Taste\n",
      "How to make the perfect pavlova - Good Food\n",
      "Pavlova | Donna Hay\n",
      "Pavlova - Best Recipes\n",
      "10 best pavlova recipes - Best Recipes\n",
      "Pavlova recipe: Matt Preston reveals 30 steps to making the dessert\n",
      "Strawberry Pavlova | BBC Good Food\n",
      "The Best Pavlova recipe – All recipes Australia NZ\n",
      "----- Count: 10 ----- Run: 0 ----- TS: 2017-02-07 07:32:57.700759\n"
     ]
    }
   ],
   "source": [
    "err_count = 0\n",
    "runs = 1\n",
    "min_wait = 50 # seconds\n",
    "max_wait = 80 # seconds\n",
    "for i in range(runs):\n",
    "    ps = driver.page_source\n",
    "    try:\n",
    "        elem = driver.find_element_by_id('pnnext')\n",
    "        soup = bs4.BeautifulSoup(ps,'lxml')\n",
    "        for rc_divs in soup.find_all(\"div\",class_=['rc']):\n",
    "            a_result = {'url':rc_divs.find(\"a\").attrs['href'],'text':rc_divs.find(\"a\").text}\n",
    "            if not a_result['url'] in list(r['url'] for r in results):\n",
    "                results += [a_result]\n",
    "                print(a_result['text'])\n",
    "    \n",
    "        if i < runs-1:\n",
    "            w = randint(max_wait-min_wait)+min_wait\n",
    "            print(\"Waiting\",w)\n",
    "            sleep(w)\n",
    "            print(\"Attempting to click\")\n",
    "        \n",
    "        try:\n",
    "            elem.click()\n",
    "        except:\n",
    "            print(\"**************\",sys.exc_info()[0])\n",
    "            \n",
    "        err_count = 0\n",
    "    except:\n",
    "        os.system('say \"Human assistance please!\"')\n",
    "        err_count += 1\n",
    "        print(\"****** Error count\",err_count)\n",
    "        sleep(20)\n",
    "\n",
    "    print('----- Count:',len(results),'----- Run:',i,'----- TS:',datetime.now())\n",
    "    if err_count > 4:\n",
    "        print(\"Too many exceptions.\")\n",
    "        break\n"
   ]
  },
  {
   "cell_type": "code",
   "execution_count": 26,
   "metadata": {
    "collapsed": false
   },
   "outputs": [],
   "source": [
    "ts = ''.join([i for i in str(datetime.now()) if i in '0123456789'])[:14]\n",
    "f = open(stuff+'_'+ts+'.json',\"w\")\n",
    "json.dump(results,f)\n",
    "f.close()"
   ]
  },
  {
   "cell_type": "code",
   "execution_count": 27,
   "metadata": {
    "collapsed": false
   },
   "outputs": [],
   "source": [
    "driver.close()"
   ]
  },
  {
   "cell_type": "code",
   "execution_count": 28,
   "metadata": {
    "collapsed": false
   },
   "outputs": [
    {
     "data": {
      "text/plain": [
       "[{'text': 'Traditional pavlova - Taste',\n",
       "  'url': 'http://www.taste.com.au/recipes/24134/traditional+pavlova'},\n",
       " {'text': 'Pavlova - Taste',\n",
       "  'url': 'http://www.taste.com.au/recipes/14966/pavlova'},\n",
       " {'text': 'Classic pavlova - Taste',\n",
       "  'url': 'http://www.taste.com.au/recipes/classic-pavlova/4c3584e2-822c-4e2f-940c-f9cbd2eb8502'},\n",
       " {'text': 'How to make the perfect pavlova - Good Food',\n",
       "  'url': 'http://www.goodfood.com.au/recipes/how-to/how-to-make-the-perfect-pavlova-20130121-2d3g7'},\n",
       " {'text': 'Pavlova | Donna Hay',\n",
       "  'url': 'https://www.donnahay.com.au/recipes/pavlova'},\n",
       " {'text': 'Pavlova - Best Recipes',\n",
       "  'url': 'http://www.bestrecipes.com.au/recipe/pavlova-L428.html'},\n",
       " {'text': '10 best pavlova recipes - Best Recipes',\n",
       "  'url': 'http://www.bestrecipes.com.au/article/10-best-pavlova-recipes-a1034.html'},\n",
       " {'text': 'Pavlova recipe: Matt Preston reveals 30 steps to making the dessert',\n",
       "  'url': 'http://www.news.com.au/lifestyle/food/matt-preston-reveals-the-30-steps-to-making-to-a-perfect-pavlova/news-story/0bf0dca46d7f735863310145fb8df34d'},\n",
       " {'text': 'Strawberry Pavlova | BBC Good Food',\n",
       "  'url': 'http://www.bbcgoodfood.com/recipes/711658/strawberry-pavlova'},\n",
       " {'text': 'The Best Pavlova recipe – All recipes Australia NZ',\n",
       "  'url': 'http://allrecipes.com.au/recipe/7315/the-best-pavlova.aspx'}]"
      ]
     },
     "execution_count": 28,
     "metadata": {},
     "output_type": "execute_result"
    }
   ],
   "source": [
    "results"
   ]
  },
  {
   "cell_type": "code",
   "execution_count": null,
   "metadata": {
    "collapsed": true
   },
   "outputs": [],
   "source": []
  }
 ],
 "metadata": {
  "kernelspec": {
   "display_name": "Python 3",
   "language": "python",
   "name": "python3"
  },
  "language_info": {
   "codemirror_mode": {
    "name": "ipython",
    "version": 3
   },
   "file_extension": ".py",
   "mimetype": "text/x-python",
   "name": "python",
   "nbconvert_exporter": "python",
   "pygments_lexer": "ipython3",
   "version": "3.5.2"
  }
 },
 "nbformat": 4,
 "nbformat_minor": 0
}
